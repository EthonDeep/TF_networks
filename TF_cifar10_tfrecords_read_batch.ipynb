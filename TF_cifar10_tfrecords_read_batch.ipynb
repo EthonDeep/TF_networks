{
 "cells": [
  {
   "cell_type": "code",
   "execution_count": null,
   "metadata": {},
   "outputs": [],
   "source": [
    "def unpickle(file):\n",
    "    import pickle\n",
    "    with open(file, 'rb') as fo:\n",
    "        dict = pickle.load(fo, encoding='bytes')\n",
    "    return dict"
   ]
  },
  {
   "cell_type": "code",
   "execution_count": null,
   "metadata": {},
   "outputs": [],
   "source": [
    "file_dir=\"./cifar-10/data_batch_1\"\n",
    "dict1=unpickle(file_dir)\n",
    "# dict1\n",
    "dict1[ b'data'][0].shape\n",
    "dict1"
   ]
  },
  {
   "cell_type": "markdown",
   "metadata": {},
   "source": [
    "##对cifar10的二进制数据进行解码成图片"
   ]
  },
  {
   "cell_type": "code",
   "execution_count": null,
   "metadata": {},
   "outputs": [],
   "source": [
    "import matplotlib.pyplot as plt\n",
    "import numpy as np\n",
    "from scipy.misc import imsave\n",
    "# plt.figure()\n",
    "file_dir=\"./cifar-10/test_batch\"\n",
    "dict1=unpickle(file_dir)\n",
    "for i in range(10000):\n",
    "    image=np.reshape(dict1[b'data'][i],(3,32,32))\n",
    "    image=image.transpose(1,2,0)\n",
    "    print(\"processing bytesto image: {}\".format(i),flush=True)\n",
    "    label=dict1[b'labels'][i]\n",
    "    imsave(\"./cifar10_image_test/{}_{}.png\".format(label,i),image)\n",
    "# print(image.shape)\n",
    "# plt.imshow(image)\n",
    "# plt.show()"
   ]
  },
  {
   "cell_type": "code",
   "execution_count": null,
   "metadata": {},
   "outputs": [],
   "source": [
    "###生成训练用的tfrecords  "
   ]
  },
  {
   "cell_type": "code",
   "execution_count": null,
   "metadata": {},
   "outputs": [],
   "source": [
    "import os\n",
    "import tensorflow as tf\n",
    "from PIL import Image\n",
    "import matplotlib.pyplot as plt\n",
    "import numpy as np\n",
    "image_dir=\"./cifar10_image_test\"####图片所在的路径\n",
    "writer=tf.python_io.TFRecordWriter(\"cifar10_test.tfrecords\")###创建一个writer\n",
    "global count ###计数值\n",
    "count=0\n",
    "for file_name in os.listdir(image_dir):###获取路径下的所有文件的名字（包括后缀）\n",
    "    global count\n",
    "    count+=1\n",
    "    label=file_name.split('_')[0]###这里的label，我在解析数据的时候把label写在了文件名的第一个字符\n",
    "    image=Image.open(image_dir+'/'+file_name)###打开图片\n",
    "    image_bytes=image.tobytes()###将图片的数据转化成二进制文件\n",
    "    example=tf.train.Example(features=tf.train.Features(feature={\n",
    "        \"label\":tf.train.Feature(int64_list=tf.train.Int64List(value=[int(label)])),\n",
    "        \"image\":tf.train.Feature(bytes_list=tf.train.BytesList(value=[image_bytes]))\n",
    "    }))\n",
    "    print(\"processing image to tfrecords num {}\".format(count))\n",
    "    writer.write(example.SerializeToString())###序列化数据写入tfrecords\n",
    "writer.close()"
   ]
  },
  {
   "cell_type": "code",
   "execution_count": 1,
   "metadata": {},
   "outputs": [],
   "source": [
    "def read_decode(filename):\n",
    "    filename_queue=tf.train.string_input_producer([filename],shuffle=True)#创建一个文件名队列（打乱顺序）\n",
    "    reader=tf.TFRecordReader()\n",
    "    _,serialized_example=reader.read(filename_queue)##读取队列数据\n",
    "    features=tf.parse_single_example(serialized_example,\n",
    "                                             features={\n",
    "                                                 \"label\":tf.FixedLenFeature([],tf.int64),\n",
    "                                                 \"image\":tf.FixedLenFeature([],tf.string)\n",
    "                                             })\n",
    "    image=tf.decode_raw(features[\"image\"],tf.uint8)##重新编码成图片\n",
    "    image=tf.reshape(image,[32,32,3])\n",
    "    image=tf.cast(image,tf.int64)\n",
    "    label=tf.cast(features['label'],tf.int32)\n",
    "    print(image,label)\n",
    "    return image,label"
   ]
  },
  {
   "cell_type": "code",
   "execution_count": 2,
   "metadata": {},
   "outputs": [
    {
     "name": "stdout",
     "output_type": "stream",
     "text": [
      "WARNING:tensorflow:From /usr/local/lib/python3.5/dist-packages/tensorflow/python/training/input.py:187: QueueRunner.__init__ (from tensorflow.python.training.queue_runner_impl) is deprecated and will be removed in a future version.\n",
      "Instructions for updating:\n",
      "To construct input pipelines, use the `tf.data` module.\n",
      "WARNING:tensorflow:From /usr/local/lib/python3.5/dist-packages/tensorflow/python/training/input.py:187: add_queue_runner (from tensorflow.python.training.queue_runner_impl) is deprecated and will be removed in a future version.\n",
      "Instructions for updating:\n",
      "To construct input pipelines, use the `tf.data` module.\n",
      "Tensor(\"Cast:0\", shape=(32, 32, 3), dtype=int64) Tensor(\"Cast_1:0\", shape=(), dtype=int32)\n"
     ]
    }
   ],
   "source": [
    "import tensorflow as tf\n",
    "import matplotlib.pyplot as plt\n",
    "import numpy as np\n",
    "from PIL import Image\n",
    "filename=\"cifar10_batch1_train.tfrecords\"\n",
    "raw_image,label=read_decode(filename)"
   ]
  },
  {
   "cell_type": "code",
   "execution_count": 4,
   "metadata": {},
   "outputs": [
    {
     "name": "stdout",
     "output_type": "stream",
     "text": [
      "[array([[[192, 185, 179],\n",
      "        [193, 186, 180],\n",
      "        [199, 192, 186],\n",
      "        ...,\n",
      "        [220, 212, 191],\n",
      "        [221, 215, 193],\n",
      "        [224, 220, 198]],\n",
      "\n",
      "       [[190, 180, 172],\n",
      "        [191, 181, 173],\n",
      "        [198, 188, 180],\n",
      "        ...,\n",
      "        [219, 212, 191],\n",
      "        [220, 214, 191],\n",
      "        [221, 213, 190]],\n",
      "\n",
      "       [[191, 179, 169],\n",
      "        [193, 181, 172],\n",
      "        [198, 185, 176],\n",
      "        ...,\n",
      "        [215, 210, 188],\n",
      "        [216, 209, 187],\n",
      "        [212, 200, 178]],\n",
      "\n",
      "       ...,\n",
      "\n",
      "       [[110, 114, 115],\n",
      "        [105, 109, 110],\n",
      "        [ 84,  88,  88],\n",
      "        ...,\n",
      "        [130, 127, 118],\n",
      "        [124, 122, 110],\n",
      "        [135, 133, 120]],\n",
      "\n",
      "       [[116, 120, 119],\n",
      "        [110, 114, 113],\n",
      "        [ 99, 103, 102],\n",
      "        ...,\n",
      "        [132, 130, 120],\n",
      "        [132, 130, 118],\n",
      "        [134, 132, 119]],\n",
      "\n",
      "       [[107, 111, 113],\n",
      "        [109, 113, 115],\n",
      "        [ 97, 101, 103],\n",
      "        ...,\n",
      "        [128, 125, 115],\n",
      "        [141, 139, 126],\n",
      "        [141, 139, 126]]]), 8]\n"
     ]
    },
    {
     "data": {
      "image/png": "[encoded data removed]",
      "text/plain": [
       "<Figure size 432x288 with 1 Axes>"
      ]
     },
     "metadata": {
      "needs_background": "light"
     },
     "output_type": "display_data"
    }
   ],
   "source": [
    "with tf.Session() as sess:\n",
    "    coord=tf.train.Coordinator()\n",
    "    threads=tf.train.start_queue_runners(coord=coord)\n",
    "#     raw_image,label=read_decode(filename)\n",
    "    print(sess.run([raw_image,label]))\n",
    "    plt.imshow(raw_image.eval())\n",
    "    plt.show()\n",
    "    coord.request_stop()\n",
    "    coord.join(threads)"
   ]
  },
  {
   "cell_type": "code",
   "execution_count": 13,
   "metadata": {},
   "outputs": [],
   "source": [
    "def get_batch_cifar10(filename,batchsize):\n",
    "#     file_name_queue=tf.train.string_input_producer([filename],shuffle=True)\n",
    "    image,label=read_decode(filename)\n",
    "    \n",
    "    min_after_dequeue=1000\n",
    "    capacity=min_after_dequeue+3*batchsize\n",
    "    \n",
    "    image_batch,label_batch=tf.train.shuffle_batch([image,label],batch_size=batchsize,\n",
    "                                                   capacity=capacity,min_after_dequeue=min_after_dequeue)\n",
    "    return image_batch,label_batch"
   ]
  },
  {
   "cell_type": "code",
   "execution_count": 23,
   "metadata": {},
   "outputs": [
    {
     "name": "stdout",
     "output_type": "stream",
     "text": [
      "Tensor(\"Cast_20:0\", shape=(32, 32, 3), dtype=int64) Tensor(\"Cast_21:0\", shape=(), dtype=int32)\n"
     ]
    },
    {
     "data": {
      "image/png": "[encoded data removed]",
      "text/plain": [
       "<Figure size 72x72 with 1 Axes>"
      ]
     },
     "metadata": {
      "needs_background": "light"
     },
     "output_type": "display_data"
    },
    {
     "data": {
      "image/png": "[encoded data removed]",
      "text/plain": [
       "<Figure size 72x72 with 1 Axes>"
      ]
     },
     "metadata": {
      "needs_background": "light"
     },
     "output_type": "display_data"
    },
    {
     "data": {
      "image/png": "[encoded data removed]",
      "text/plain": [
       "<Figure size 72x72 with 1 Axes>"
      ]
     },
     "metadata": {
      "needs_background": "light"
     },
     "output_type": "display_data"
    },
    {
     "data": {
      "image/png": "[encoded data removed]",
      "text/plain": [
       "<Figure size 72x72 with 1 Axes>"
      ]
     },
     "metadata": {
      "needs_background": "light"
     },
     "output_type": "display_data"
    },
    {
     "data": {
      "image/png": "[encoded data removed]",
      "text/plain": [
       "<Figure size 72x72 with 1 Axes>"
      ]
     },
     "metadata": {
      "needs_background": "light"
     },
     "output_type": "display_data"
    },
    {
     "data": {
      "image/png": "[encoded data removed]",
      "text/plain": [
       "<Figure size 72x72 with 1 Axes>"
      ]
     },
     "metadata": {
      "needs_background": "light"
     },
     "output_type": "display_data"
    },
    {
     "data": {
      "image/png": "[encoded data removed]",
      "text/plain": [
       "<Figure size 72x72 with 1 Axes>"
      ]
     },
     "metadata": {
      "needs_background": "light"
     },
     "output_type": "display_data"
    },
    {
     "data": {
      "image/png": "[encoded data removed]",
      "text/plain": [
       "<Figure size 72x72 with 1 Axes>"
      ]
     },
     "metadata": {
      "needs_background": "light"
     },
     "output_type": "display_data"
    },
    {
     "data": {
      "image/png": "[encoded data removed]",
      "text/plain": [
       "<Figure size 72x72 with 1 Axes>"
      ]
     },
     "metadata": {
      "needs_background": "light"
     },
     "output_type": "display_data"
    },
    {
     "data": {
      "image/png": "[encoded data removed]",
      "text/plain": [
       "<Figure size 72x72 with 1 Axes>"
      ]
     },
     "metadata": {
      "needs_background": "light"
     },
     "output_type": "display_data"
    }
   ],
   "source": [
    "init=tf.global_variables_initializer()\n",
    "image_batch,label_batch=get_batch_cifar10(\"./cifar10_batch1_train.tfrecords\",batchsize=1)\n",
    "with tf.Session() as sess:\n",
    "    sess.run(init)\n",
    "    coord=tf.train.Coordinator()###创建一个协调器，管理线程\n",
    "    threads=tf.train.start_queue_runners(sess,coord)#启动队列\n",
    "    \n",
    "    for i in range(10):\n",
    "        batch_image,batch_label=sess.run([image_batch,label_batch])\n",
    "        plt.figure(figsize=(1,1))\n",
    "        plt.imshow(np.reshape(batch_image,(32,32,3)))\n",
    "        plt.show()\n",
    "    coord.request_stop()\n",
    "    coord.join(threads)"
   ]
  },
  {
   "cell_type": "code",
   "execution_count": null,
   "metadata": {},
   "outputs": [],
   "source": []
  }
 ],
 "metadata": {
  "kernelspec": {
   "display_name": "Python 3",
   "language": "python",
   "name": "python3"
  },
  "language_info": {
   "codemirror_mode": {
    "name": "ipython",
    "version": 3
   },
   "file_extension": ".py",
   "mimetype": "text/x-python",
   "name": "python",
   "nbconvert_exporter": "python",
   "pygments_lexer": "ipython3",
   "version": "3.5.2"
  }
 },
 "nbformat": 4,
 "nbformat_minor": 2
}
